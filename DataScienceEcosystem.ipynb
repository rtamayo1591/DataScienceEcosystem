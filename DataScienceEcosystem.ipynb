{
 "cells": [
  {
   "cell_type": "markdown",
   "id": "4b03f484",
   "metadata": {},
   "source": [
    "# Science Tools and Ecosystem "
   ]
  },
  {
   "cell_type": "markdown",
   "id": "d5aacac8",
   "metadata": {},
   "source": [
    "## In this notebook, Data Science Tools and Ecosystem are summarized"
   ]
  },
  {
   "cell_type": "markdown",
   "id": "dc25ee0c",
   "metadata": {},
   "source": [
    "**Objectives**\n",
    "\n",
    "- Some of the popular languages that Data Scientists\n",
    "- Some of the commonly used libraries used by Data Scientists\n",
    "- Data Science Tools\n",
    "- Examples of evaluating arithmetic expressions"
   ]
  },
  {
   "cell_type": "markdown",
   "id": "cb6157ee",
   "metadata": {},
   "source": [
    "### Some of the popular languages that Data Scientists use are:"
   ]
  },
  {
   "cell_type": "markdown",
   "id": "ba8fcdd9",
   "metadata": {},
   "source": [
    "1. Python \n",
    "2. R\n",
    "3. Java\n",
    "4. Julia\n",
    "5. SQL"
   ]
  },
  {
   "cell_type": "markdown",
   "id": "74184fae",
   "metadata": {},
   "source": [
    "### Some of the commonly used libraries used by Data Scientists include:"
   ]
  },
  {
   "cell_type": "markdown",
   "id": "671acbbd",
   "metadata": {},
   "source": [
    "1. Keras\n",
    "2. Tensor flow \n",
    "3. Dplyr\n",
    "4. Scipy \n",
    "5. SciML"
   ]
  },
  {
   "cell_type": "markdown",
   "id": "dac295c0",
   "metadata": {},
   "source": [
    "|Data Science Tools|\n",
    "|------------------|\n",
    "|Jupiter Notebooks |\n",
    "|R Studio          |\n",
    "|Zeppeling Notebooks|"
   ]
  },
  {
   "cell_type": "markdown",
   "id": "8a6449f0",
   "metadata": {},
   "source": [
    "### Below are a few examples of evaluating arithmetic expressions in Python"
   ]
  },
  {
   "cell_type": "code",
   "execution_count": 1,
   "id": "64680fe7",
   "metadata": {},
   "outputs": [
    {
     "data": {
      "text/plain": [
       "17"
      ]
     },
     "execution_count": 1,
     "metadata": {},
     "output_type": "execute_result"
    }
   ],
   "source": [
    "# This a simple arithmetic expression to mutiply then add integers\n",
    "(3*4)+5\n"
   ]
  },
  {
   "cell_type": "code",
   "execution_count": 2,
   "id": "2c9b3c05",
   "metadata": {},
   "outputs": [
    {
     "data": {
      "text/plain": [
       "3.3333333333333335"
      ]
     },
     "execution_count": 2,
     "metadata": {},
     "output_type": "execute_result"
    }
   ],
   "source": [
    "# This will convert 200 minutes to hours by diving by 60\n",
    "200/60"
   ]
  },
  {
   "cell_type": "markdown",
   "id": "ace209cc",
   "metadata": {},
   "source": [
    "## Author\n",
    "Ricardo Tamayo"
   ]
  },
  {
   "cell_type": "code",
   "execution_count": null,
   "id": "525ea803",
   "metadata": {},
   "outputs": [],
   "source": []
  }
 ],
 "metadata": {
  "kernelspec": {
   "display_name": "Python 3 (ipykernel)",
   "language": "python",
   "name": "python3"
  },
  "language_info": {
   "codemirror_mode": {
    "name": "ipython",
    "version": 3
   },
   "file_extension": ".py",
   "mimetype": "text/x-python",
   "name": "python",
   "nbconvert_exporter": "python",
   "pygments_lexer": "ipython3",
   "version": "3.11.5"
  }
 },
 "nbformat": 4,
 "nbformat_minor": 5
}
